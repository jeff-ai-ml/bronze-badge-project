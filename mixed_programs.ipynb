{
  "nbformat": 4,
  "nbformat_minor": 0,
  "metadata": {
    "colab": {
      "provenance": [],
      "authorship_tag": "ABX9TyMPNQZgCBodN0Ddu0scKkoJ",
      "include_colab_link": true
    },
    "kernelspec": {
      "name": "python3",
      "display_name": "Python 3"
    },
    "language_info": {
      "name": "python"
    }
  },
  "cells": [
    {
      "cell_type": "markdown",
      "metadata": {
        "id": "view-in-github",
        "colab_type": "text"
      },
      "source": [
        "<a href=\"https://colab.research.google.com/github/jeff-ai-ml/bronze-badge-project/blob/main/mixed_programs.ipynb\" target=\"_parent\"><img src=\"https://colab.research.google.com/assets/colab-badge.svg\" alt=\"Open In Colab\"/></a>"
      ]
    },
    {
      "cell_type": "code",
      "execution_count": 1,
      "metadata": {
        "colab": {
          "base_uri": "https://localhost:8080/"
        },
        "id": "R2xLuNxQ2YMa",
        "outputId": "81ee3ec8-7e4a-4f92-8fea-c31d2d267694"
      },
      "outputs": [
        {
          "output_type": "stream",
          "name": "stdout",
          "text": [
            "+++++++++++++++\n",
            "Addition of 4 and 3 is 7\n",
            "***************\n"
          ]
        }
      ],
      "source": [
        "#Decorators\n",
        "def decorator(fn):\n",
        "    def wrapper(a,b):\n",
        "        print(\"+++++++++++++++\")\n",
        "        fn(a,b)\n",
        "        print(\"***************\")\n",
        "    return wrapper\n",
        "\n",
        "\n",
        "\n",
        "\n",
        "@decorator\n",
        "def add(a,b):\n",
        "    print(f\"Addition of {a} and {b} is {a+b}\")\n",
        "    return a+b\n",
        "\n",
        "add(4,3)"
      ]
    },
    {
      "cell_type": "code",
      "source": [
        "#What are generators? Write a generator that yields square numbers up to N.\n",
        "\n",
        "def sq(n):\n",
        "    for i in range(1,n+1):\n",
        "        s = i*i\n",
        "        yield s\n",
        "\n",
        "square = sq(5)\n",
        "\n",
        "for num in square:\n",
        "    print(num)\n",
        ""
      ],
      "metadata": {
        "colab": {
          "base_uri": "https://localhost:8080/"
        },
        "id": "zBfca2yK6cyt",
        "outputId": "4569beaf-ddcf-4d95-e3c4-e41112731c9f"
      },
      "execution_count": 2,
      "outputs": [
        {
          "output_type": "stream",
          "name": "stdout",
          "text": [
            "1\n",
            "4\n",
            "9\n",
            "16\n",
            "25\n"
          ]
        }
      ]
    },
    {
      "cell_type": "code",
      "source": [
        "#Try Except\n",
        "\n",
        "def div(c,d):\n",
        "    try:\n",
        "        r = c/d\n",
        "        print(f\"Div of {c} and {d} is {r}\")\n",
        "        return r\n",
        "    except Exception as e:\n",
        "        print(f\"Hit Exception {e}\")\n",
        "        return e\n",
        "\n",
        "print(div(4,0))"
      ],
      "metadata": {
        "colab": {
          "base_uri": "https://localhost:8080/"
        },
        "id": "7j4d2wZw6eU0",
        "outputId": "8f5bdff3-4fbf-46a9-d86c-eaac7d0dac81"
      },
      "execution_count": 3,
      "outputs": [
        {
          "output_type": "stream",
          "name": "stdout",
          "text": [
            "Hit Exception division by zero\n",
            "division by zero\n"
          ]
        }
      ]
    },
    {
      "cell_type": "code",
      "source": [],
      "metadata": {
        "id": "qqzQCrCT-NAY"
      },
      "execution_count": null,
      "outputs": []
    }
  ]
}