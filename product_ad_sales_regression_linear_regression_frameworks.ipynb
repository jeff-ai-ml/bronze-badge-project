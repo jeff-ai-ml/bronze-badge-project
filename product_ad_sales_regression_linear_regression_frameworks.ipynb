{
  "cells": [
    {
      "cell_type": "markdown",
      "metadata": {
        "id": "view-in-github",
        "colab_type": "text"
      },
      "source": [
        "<a href=\"https://colab.research.google.com/github/jeff-ai-ml/bronze-badge-project/blob/main/product_ad_sales_regression_linear_regression_frameworks.ipynb\" target=\"_parent\"><img src=\"https://colab.research.google.com/assets/colab-badge.svg\" alt=\"Open In Colab\"/></a>"
      ]
    },
    {
      "cell_type": "markdown",
      "metadata": {
        "id": "YFPdzc95HoMo"
      },
      "source": [
        "# Can you build a multivariate linear regression model that can predict the product sales based on the advertising budget allocated to different channels. The features are TV Budget ($),Radio Budget ($),Newspaper Budget ($) and the output is Sales (units)\n"
      ]
    },
    {
      "cell_type": "markdown",
      "metadata": {
        "id": "qB02CN6VHoMw"
      },
      "source": [
        "# step 1: import the libraries"
      ]
    },
    {
      "cell_type": "code",
      "execution_count": 1,
      "metadata": {
        "id": "U55Yc6xGHoMy"
      },
      "outputs": [],
      "source": [
        "import numpy as np\n",
        "import matplotlib.pyplot as plt\n",
        "import pandas as pd\n",
        "from sklearn.model_selection import train_test_split\n",
        "from sklearn.linear_model import LinearRegression"
      ]
    },
    {
      "cell_type": "markdown",
      "metadata": {
        "id": "Z8eYcalkHoM1"
      },
      "source": [
        "# step 2: reading the data and splitting it to input and output\n"
      ]
    },
    {
      "cell_type": "code",
      "execution_count": 2,
      "metadata": {
        "id": "h74nXRpdHoM1",
        "colab": {
          "base_uri": "https://localhost:8080/"
        },
        "outputId": "272dbd71-6870-42e9-ab1c-360068b63b93"
      },
      "outputs": [
        {
          "output_type": "stream",
          "name": "stdout",
          "text": [
            "   TV Budget ($)  Radio Budget ($)  Newspaper Budget ($)  Sales (units)\n",
            "0          230.1              37.8                  69.2           22.1\n",
            "1           44.5              39.3                  45.1           10.4\n",
            "2           17.2              45.9                  69.3            9.3\n",
            "3          151.5              41.3                  58.5           18.5\n",
            "4          180.8              10.8                  58.4           12.9\n",
            "5            8.7              48.9                  75.0            7.2\n",
            "6           57.5              32.8                  23.5           11.8\n",
            "7          120.2              19.6                  11.6           13.2\n",
            "8          144.1              16.0                  40.3           15.6\n",
            "9          111.6              12.6                  37.9           12.2\n",
            "[[230.1  37.8  69.2]\n",
            " [ 44.5  39.3  45.1]\n",
            " [ 17.2  45.9  69.3]\n",
            " [151.5  41.3  58.5]\n",
            " [180.8  10.8  58.4]\n",
            " [  8.7  48.9  75. ]\n",
            " [ 57.5  32.8  23.5]\n",
            " [120.2  19.6  11.6]\n",
            " [144.1  16.   40.3]\n",
            " [111.6  12.6  37.9]]\n",
            "[22.1 10.4  9.3 18.5 12.9  7.2 11.8 13.2 15.6 12.2]\n"
          ]
        }
      ],
      "source": [
        "dataset = pd.read_csv('https://raw.githubusercontent.com/jeff-ai-ml/ml-datasets/refs/heads/main/product_ad_sales.csv')\n",
        "\n",
        "print(dataset)\n",
        "inputx = dataset.iloc[:, :-1].values\n",
        "outputy = dataset.iloc[:, 3].values\n",
        "\n",
        "print(inputx)\n",
        "print(outputy)\n",
        "\n"
      ]
    },
    {
      "cell_type": "code",
      "execution_count": 3,
      "metadata": {
        "id": "hDb3C_wCHoM2"
      },
      "outputs": [],
      "source": [
        "#print(dataset)"
      ]
    },
    {
      "cell_type": "markdown",
      "metadata": {
        "id": "rOXxOBHmHoM3"
      },
      "source": [
        "# step 3: select one thirds of the data for testing and two thirds for training"
      ]
    },
    {
      "cell_type": "code",
      "execution_count": 4,
      "metadata": {
        "id": "jrXtZA-HHoM3"
      },
      "outputs": [],
      "source": [
        "input_train, input_test, output_train, output_test = train_test_split(inputx, outputy, test_size = 1/4, random_state = 7)"
      ]
    },
    {
      "cell_type": "markdown",
      "metadata": {
        "id": "oUcKXpkSHoM3"
      },
      "source": [
        "# step 4: selecting the simple Linear Regression model"
      ]
    },
    {
      "cell_type": "code",
      "execution_count": 6,
      "metadata": {
        "id": "5QFcR4lEHoM4",
        "outputId": "df11e8c4-b992-4244-c4be-61a9922d7629",
        "colab": {
          "base_uri": "https://localhost:8080/"
        }
      },
      "outputs": [
        {
          "output_type": "stream",
          "name": "stdout",
          "text": [
            "\n",
            "The parameters of the model are\n",
            "\n",
            " {'copy_X': True, 'fit_intercept': True, 'n_jobs': None, 'positive': False}\n",
            "\n",
            "The model we are using is  LinearRegression()\n"
          ]
        }
      ],
      "source": [
        "model = LinearRegression()\n",
        "print(\"\\nThe parameters of the model are\\n\\n\",model.get_params())\n",
        "\n",
        "print(\"\\nThe model we are using is \", model.fit(input_train, output_train))\n",
        "\n"
      ]
    },
    {
      "cell_type": "markdown",
      "metadata": {
        "id": "ug55g_rRHoM4"
      },
      "source": [
        "# step 5: testing or model prediction using testinput"
      ]
    },
    {
      "cell_type": "code",
      "execution_count": 8,
      "metadata": {
        "id": "a2ac50OTHoM4",
        "outputId": "bd6eae1c-5690-427d-c003-ee8e1e9e6cd0",
        "colab": {
          "base_uri": "https://localhost:8080/"
        }
      },
      "outputs": [
        {
          "output_type": "stream",
          "name": "stdout",
          "text": [
            "Hello! I can predict the number of units that will be sold if you give the budget/spending on ads given on TV, Radio, News\n",
            "Enter your TV ad budget or spendings : 230\n",
            "Enter your News Paper ad budget or spendings : 38\n",
            "Enter your Radio ad budget or spendings : 69\n",
            "\n",
            "The Budget or Spending on various ads [TV, News Paper, Radio] is  [[230.0, 38.0, 69.0]]\n",
            "\n",
            "The Sales (units) of the prodcut is is  [21.78808855]\n"
          ]
        }
      ],
      "source": [
        "print(\"Hello! I can predict the number of units that will be sold if you give the budget/spending on ads given on TV, Radio, News\")\n",
        "tv = float(input(\"Enter your TV ad budget or spendings : \"))\n",
        "news_paper =float(input(\"Enter your News Paper ad budget or spendings : \"))\n",
        "radio = float(input(\"Enter your Radio ad budget or spendings : \"))\n",
        "testinput = [[tv, news_paper, radio]]\n",
        "predicted_output = model.predict(testinput)\n",
        "print('\\nThe Budget or Spending on various ads [TV, News Paper, Radio] is ',testinput)\n",
        "print('\\nThe Sales (units) of the prodcut is is ',predicted_output)\n",
        "#yes = input(\"\\nCan I proceed\\n\")"
      ]
    },
    {
      "cell_type": "markdown",
      "metadata": {
        "id": "Gdt4DALPHoM5"
      },
      "source": [
        "# step 6: Printing the testing results"
      ]
    },
    {
      "cell_type": "code",
      "execution_count": 25,
      "metadata": {
        "id": "7T7HktzSHoM6",
        "outputId": "27a38a20-d71f-4a53-d3d1-cdb0ed742d42",
        "colab": {
          "base_uri": "https://localhost:8080/"
        }
      },
      "outputs": [
        {
          "output_type": "stream",
          "name": "stdout",
          "text": [
            "\n",
            "The test input Ad Budget for TV, News Paper and Radio are as follows \n",
            "\n",
            "[[144.1  16.   40.3]\n",
            " [  8.7  48.9  75. ]\n",
            " [230.1  37.8  69.2]]\n",
            "\n",
            "The output (Units Sold) for the test input is as follows \n",
            "\n",
            "[13.34141541  9.15436676 21.74734019]\n"
          ]
        }
      ],
      "source": [
        "print(\"\\nThe test input Ad Budget for TV, News Paper and Radio are as follows \\n\")\n",
        "print(input_test)\n",
        "# model predicting the Test set results\n",
        "predicted_output = model.predict(input_test)\n",
        "print(\"\\nThe output (Units Sold) for the test input is as follows \\n\")\n",
        "print(predicted_output)"
      ]
    },
    {
      "cell_type": "code",
      "execution_count": null,
      "metadata": {
        "id": "g94SmozoHoM6"
      },
      "outputs": [],
      "source": []
    }
  ],
  "metadata": {
    "kernelspec": {
      "display_name": "base",
      "language": "python",
      "name": "python3"
    },
    "language_info": {
      "codemirror_mode": {
        "name": "ipython",
        "version": 3
      },
      "file_extension": ".py",
      "mimetype": "text/x-python",
      "name": "python",
      "nbconvert_exporter": "python",
      "pygments_lexer": "ipython3",
      "version": "3.10.13"
    },
    "colab": {
      "provenance": [],
      "include_colab_link": true
    }
  },
  "nbformat": 4,
  "nbformat_minor": 0
}